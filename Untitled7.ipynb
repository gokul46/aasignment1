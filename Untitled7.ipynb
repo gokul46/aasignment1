{
  "nbformat": 4,
  "nbformat_minor": 0,
  "metadata": {
    "colab": {
      "name": "Untitled7.ipynb",
      "provenance": [],
      "collapsed_sections": [],
      "authorship_tag": "ABX9TyNjmUqN9xkoosrrp0eYBfFQ",
      "include_colab_link": true
    },
    "kernelspec": {
      "name": "python3",
      "display_name": "Python 3"
    }
  },
  "cells": [
    {
      "cell_type": "markdown",
      "metadata": {
        "id": "view-in-github",
        "colab_type": "text"
      },
      "source": [
        "<a href=\"https://colab.research.google.com/github/meghana5757/aasignment1/blob/master/Untitled7.ipynb\" target=\"_parent\"><img src=\"https://colab.research.google.com/assets/colab-badge.svg\" alt=\"Open In Colab\"/></a>"
      ]
    },
    {
      "cell_type": "code",
      "metadata": {
        "id": "bsG_B8Lu0Ra9",
        "colab_type": "code",
        "colab": {
          "base_uri": "https://localhost:8080/",
          "height": 185
        },
        "outputId": "54f41fd8-5501-4fdf-f296-2f1e94b9a845"
      },
      "source": [
        "def add(num1, num2):\n",
        "    return num1 + num2\n",
        "def subtract(num1, num2):\n",
        "    return num1 - num2\n",
        "def multiply(num1, num2):\n",
        "    return num1 * num2\n",
        "def divide(num1, num2):\n",
        "    return num1 / num2\n",
        "print(\"please select operation -\\n\" \\\n",
        "         \"1. Add\\n\" \\\n",
        "         \"2.Subtract\\n\" \\\n",
        "         \"3.Multiply\\n\" \\\n",
        "         \"4.Divide\\n\")\n",
        "select = int(input(\"select operations from 1,2,3,4 :\"))\n",
        "number_1 = int(input(\"Enter first number: \"))\n",
        "number_2 = int(input(\"Enter second number: \"))\n",
        "if select == 1:\n",
        "   print(number_1, \"+\",number_2, \"=\",add(number_1,number_2))\n",
        "elif select == 2:\n",
        "   print(number_1, \"-\",number_2, \"=\",subtract(number_1,number_2))\n",
        "elif select == 3:\n",
        "   print(number_1,\"*\",number_2, \"=\",multiply(number_1,number_2))\n",
        "elif select == 4:\n",
        "   print(number_1, \"/\",number_2, \"=\",divide(number_1,number_2))\n",
        "else:\n",
        "   print(\"invalid input\")             \n",
        "   \n"
      ],
      "execution_count": null,
      "outputs": [
        {
          "output_type": "stream",
          "text": [
            "please select operation -\n",
            "1. Add\n",
            "2.Subtract\n",
            "3.Multiply\n",
            "4.Divide\n",
            "\n",
            "select operations from 1,2,3,4 :1\n",
            "Enter first number: 15\n",
            "Enter second number: 14\n",
            "15 + 14 = 29\n"
          ],
          "name": "stdout"
        }
      ]
    },
    {
      "cell_type": "code",
      "metadata": {
        "id": "qDPJBWeuOlLC",
        "colab_type": "code",
        "colab": {}
      },
      "source": [
        ""
      ],
      "execution_count": null,
      "outputs": []
    },
    {
      "cell_type": "code",
      "metadata": {
        "id": "Ak1CwPAGIHvn",
        "colab_type": "code",
        "colab": {
          "base_uri": "https://localhost:8080/",
          "height": 84
        },
        "outputId": "cc832139-be7e-4ba4-e6f8-18e1f48274d0"
      },
      "source": [
        "p = int(input('Enter the principal amount='))\n",
        "t = int(input('Enter the time in years='))\n",
        "r = float(input('Enter the interest rate='))\n",
        "si = p*t*r/100\n",
        "print('The Simple Intrest is',si)\n"
      ],
      "execution_count": null,
      "outputs": [
        {
          "output_type": "stream",
          "text": [
            "Enter the principal amount=5000\n",
            "Enter the time in years=4\n",
            "Enter the interest rate=7\n",
            "The Simple Intrest is 1400.0\n"
          ],
          "name": "stdout"
        }
      ]
    },
    {
      "cell_type": "code",
      "metadata": {
        "id": "uFeP_sd3M1-I",
        "colab_type": "code",
        "colab": {
          "base_uri": "https://localhost:8080/",
          "height": 67
        },
        "outputId": "17148bfb-4d03-42ef-8ea7-f990e6f6caf2"
      },
      "source": [
        "r=int(input('Enter the radius ='))\n",
        "pi=float(input('Enter the value of pi='))\n",
        "a=pi*r*r\n",
        "print('The area of circle is=',a)"
      ],
      "execution_count": null,
      "outputs": [
        {
          "output_type": "stream",
          "text": [
            "Enter the radius =5\n",
            "Enter the value of pi=3.141592\n",
            "The area of circle is= 78.5398\n"
          ],
          "name": "stdout"
        }
      ]
    },
    {
      "cell_type": "code",
      "metadata": {
        "id": "W0dV2TT5Opvg",
        "colab_type": "code",
        "colab": {
          "base_uri": "https://localhost:8080/",
          "height": 84
        },
        "outputId": "7b0edffe-55e5-4f40-fa3f-75ef7989aff8"
      },
      "source": [
        "#area of triangle\n",
        "a=float(input('enter first side'))\n",
        "b=float(input('enter second side'))\n",
        "c=float(input('enter third side'))\n",
        "s=(a+b+c)/2\n",
        "area=(s*(s-a)*(s-b)*(s-c))**0.5\n",
        "print('the area of the triangle is %0.2f'%area)"
      ],
      "execution_count": null,
      "outputs": [
        {
          "output_type": "stream",
          "text": [
            "enter first side2\n",
            "enter second side4\n",
            "enter third side5\n",
            "the area of the triangle is 3.80\n"
          ],
          "name": "stdout"
        }
      ]
    },
    {
      "cell_type": "code",
      "metadata": {
        "id": "tsiA-idTQXQ1",
        "colab_type": "code",
        "colab": {
          "base_uri": "https://localhost:8080/",
          "height": 50
        },
        "outputId": "4b81878f-c641-4900-bbc1-b09638ac3003"
      },
      "source": [
        "#celsius to fahrenheit\n",
        "celsius=float(input(\"enter the temperature in celsius: \"))\n",
        "fahrenheit=(celsius*9/5)+32\n",
        "print('%2f celsius is: %0.2f fahrenheit'%(celsius,fahrenheit))"
      ],
      "execution_count": null,
      "outputs": [
        {
          "output_type": "stream",
          "text": [
            "enter the temperature in celsius: 32\n",
            "32.000000 celsius is: 89.60 fahrenheit\n"
          ],
          "name": "stdout"
        }
      ]
    },
    {
      "cell_type": "code",
      "metadata": {
        "id": "4g77fBKXRdGy",
        "colab_type": "code",
        "colab": {
          "base_uri": "https://localhost:8080/",
          "height": 67
        },
        "outputId": "4fb9baf7-79ff-4a98-eb70-e4307d8962f4"
      },
      "source": [
        "#area of rectangle\n",
        "width=float(input('enter width of a rectangle: '))\n",
        "height=float(input('enter the height of a rectangle:'))\n",
        "area=width*height\n",
        "print(\"area of rectangle is:%2f\"%area)"
      ],
      "execution_count": null,
      "outputs": [
        {
          "output_type": "stream",
          "text": [
            "enter width of a rectangle: 4\n",
            "enter the height of a rectangle:2\n",
            "area of rectangle is:8.000000\n"
          ],
          "name": "stdout"
        }
      ]
    },
    {
      "cell_type": "code",
      "metadata": {
        "id": "9dMVj58QSWRt",
        "colab_type": "code",
        "colab": {
          "base_uri": "https://localhost:8080/",
          "height": 67
        },
        "outputId": "9ecf9fd0-060c-49de-cc1d-ee7f3d9fb036"
      },
      "source": [
        "#perimeter of square\n",
        "s=int(input(\"side: \"))\n",
        "area=s*s\n",
        "perimeter=4*s\n",
        "print(\"area of square : \",area)\n",
        "print(\"perimeter of square: \",perimeter)"
      ],
      "execution_count": null,
      "outputs": [
        {
          "output_type": "stream",
          "text": [
            "side: 4\n",
            "area of square :  16\n",
            "perimeter of square:  16\n"
          ],
          "name": "stdout"
        }
      ]
    },
    {
      "cell_type": "code",
      "metadata": {
        "id": "g-i33w0ES7zZ",
        "colab_type": "code",
        "colab": {
          "base_uri": "https://localhost:8080/",
          "height": 50
        },
        "outputId": "d274b0d6-49d9-4a8c-8ccc-badbccb68285"
      },
      "source": [
        "#circumferences of a circle\n",
        "import math\n",
        "radius=float(input(\"enter the radius of the circle: \"))\n",
        "circumference=2*math.pi*radius\n",
        "print(\"circumference of the circle is :%.2f\" % circumference)"
      ],
      "execution_count": null,
      "outputs": [
        {
          "output_type": "stream",
          "text": [
            "enter the radius of the circle: 7\n",
            "circumference of the circle is :43.98\n"
          ],
          "name": "stdout"
        }
      ]
    },
    {
      "cell_type": "code",
      "metadata": {
        "id": "xQrqhHFRU7Pj",
        "colab_type": "code",
        "colab": {
          "base_uri": "https://localhost:8080/",
          "height": 118
        },
        "outputId": "05058e0c-eaad-48ad-be21-ecd7b2a65e84"
      },
      "source": [
        "num1=input('enter first number:')\n",
        "num2=input('enter second number:')\n",
        "print(\"value of num1 before swapping: \",num1)\n",
        "print(\"value of num2 before swapping: \",num2)\n",
        "temp = num1\n",
        "num1 = num2\n",
        "num2 = temp\n",
        "print(\"value of num1 after swapping: \",num1)\n",
        "print(\"value of num2 after swapping: \",num2)"
      ],
      "execution_count": null,
      "outputs": [
        {
          "output_type": "stream",
          "text": [
            "enter first number:67\n",
            "enter second number:87\n",
            "value of num1 before swapping:  67\n",
            "value of num2 before swapping:  87\n",
            "value of num1 after swapping:  87\n",
            "value of num2 after swapping:  67\n"
          ],
          "name": "stdout"
        }
      ]
    }
  ]
}